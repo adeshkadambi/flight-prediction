{
 "cells": [
  {
   "cell_type": "code",
   "execution_count": null,
   "metadata": {},
   "outputs": [],
   "source": [
    "import pandas as pd\n",
    "import numpy as np\n",
    "import matplotlib.pyplot as plt\n",
    "import seaborn as sns\n",
    "import datetime\n",
    "%matplotlib inline\n",
    "pd.set_option('display.max_columns', None)\n",
    "\n",
    "boscun = pd.read_csv('BOS_CUN_trips1M.csv')"
   ]
  },
  {
   "cell_type": "code",
   "execution_count": null,
   "metadata": {},
   "outputs": [],
   "source": [
    "boscun.head()"
   ]
  },
  {
   "cell_type": "code",
   "execution_count": null,
   "metadata": {},
   "outputs": [],
   "source": [
    "boscun.describe()"
   ]
  },
  {
   "cell_type": "code",
   "execution_count": null,
   "metadata": {},
   "outputs": [],
   "source": [
    "boscun.nunique()"
   ]
  },
  {
   "cell_type": "code",
   "execution_count": null,
   "metadata": {},
   "outputs": [],
   "source": [
    "boscun.drop(['currency', 'surcharge', 'origin', 'destination', 'paxtype', 'tax', 'includes_sns'], axis=1, inplace=True)\n",
    "boscun.sort_values(by=['messageid', 'tripindex'], inplace=True)"
   ]
  },
  {
   "cell_type": "code",
   "execution_count": null,
   "metadata": {},
   "outputs": [],
   "source": [
    "from datetime import datetime, timedelta\n",
    "\n",
    "boscun['departure'] = boscun['departure'].apply(lambda x:datetime.utcfromtimestamp(x) - timedelta(hours=4))\n",
    "boscun['received'] = boscun['received'].apply(lambda x:datetime.utcfromtimestamp(x) - timedelta(hours=4))\n",
    "boscun['return'] = boscun['return'].apply(lambda x:datetime.utcfromtimestamp(x) - timedelta(hours=5))"
   ]
  },
  {
   "cell_type": "code",
   "execution_count": null,
   "metadata": {},
   "outputs": [],
   "source": [
    "boscun['tminus'] = boscun['departure']-boscun['received']\n",
    "boscun['tminus'] = boscun['tminus'].apply(lambda x: x.total_seconds()/(60*60*24))\n",
    "boscun.drop(['receiveddate','received_odate', 'departure_odate', 'return_ddate', 'triptimestamp'], axis=1, inplace=True)"
   ]
  },
  {
   "cell_type": "markdown",
   "metadata": {},
   "source": [
    "___\n",
    "### Assumptions:\n",
    "- User is performing all searches from Boston (UTC-4) and therefore '`triptimestamp`' will be converted to EST(-4).\n",
    "- Tax isn't considered because it is standard/dependent on '`total`' (dropped from table).\n",
    "- '`currency`', '`surcharge`', '`origin`', '`destination`', and '`paxtype`' are all dropped because they only have 1 value.\n",
    "___"
   ]
  },
  {
   "cell_type": "code",
   "execution_count": null,
   "metadata": {},
   "outputs": [],
   "source": [
    "boscun.nunique()"
   ]
  },
  {
   "cell_type": "code",
   "execution_count": null,
   "metadata": {},
   "outputs": [],
   "source": [
    "boscun.head()"
   ]
  },
  {
   "cell_type": "code",
   "execution_count": null,
   "metadata": {},
   "outputs": [],
   "source": []
  },
  {
   "cell_type": "code",
   "execution_count": null,
   "metadata": {},
   "outputs": [],
   "source": []
  }
 ],
 "metadata": {
  "kernelspec": {
   "display_name": "Python 3",
   "language": "python",
   "name": "python3"
  },
  "language_info": {
   "codemirror_mode": {
    "name": "ipython",
    "version": 3
   },
   "file_extension": ".py",
   "mimetype": "text/x-python",
   "name": "python",
   "nbconvert_exporter": "python",
   "pygments_lexer": "ipython3",
   "version": "3.6.5"
  }
 },
 "nbformat": 4,
 "nbformat_minor": 2
}
